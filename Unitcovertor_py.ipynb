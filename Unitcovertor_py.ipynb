{
  "nbformat": 4,
  "nbformat_minor": 0,
  "metadata": {
    "colab": {
      "provenance": [],
      "authorship_tag": "ABX9TyPU4wcOGisk4QpCZHczjmLJ",
      "include_colab_link": true
    },
    "kernelspec": {
      "name": "python3",
      "display_name": "Python 3"
    },
    "language_info": {
      "name": "python"
    }
  },
  "cells": [
    {
      "cell_type": "markdown",
      "metadata": {
        "id": "view-in-github",
        "colab_type": "text"
      },
      "source": [
        "<a href=\"https://colab.research.google.com/github/unzii98/Periodic-Table/blob/main/Unitcovertor_py.ipynb\" target=\"_parent\"><img src=\"https://colab.research.google.com/assets/colab-badge.svg\" alt=\"Open In Colab\"/></a>"
      ]
    },
    {
      "cell_type": "markdown",
      "source": [],
      "metadata": {
        "id": "ASq-pvqUsoqj"
      }
    },
    {
      "cell_type": "markdown",
      "source": [
        "\\"
      ],
      "metadata": {
        "id": "p_m2bduI4FkO"
      }
    },
    {
      "cell_type": "code",
      "source": [
        "!pip install streamlit pyngrok\n",
        "\n"
      ],
      "metadata": {
        "id": "DyUACd1E732K"
      },
      "execution_count": null,
      "outputs": []
    },
    {
      "cell_type": "code",
      "source": [],
      "metadata": {
        "id": "W8PTMfOcbkQb"
      },
      "execution_count": null,
      "outputs": []
    },
    {
      "cell_type": "code",
      "source": [
        "%%writefile app.py\n",
        "import streamlit as st\n",
        "\n",
        "# --- Conversion Functions ---\n",
        "def distance_convertor(from_unit, to_unit, value):\n",
        "    factor = {\n",
        "        \"Meters\": 1,\n",
        "        \"Kilometers\": 1000,\n",
        "        \"Feet\": 0.3048,\n",
        "        \"Miles\": 1609.34\n",
        "    }\n",
        "    return value * factor[from_unit] / factor[to_unit]\n",
        "\n",
        "def temperature_convertor(from_unit, to_unit, value):\n",
        "    if from_unit == to_unit:\n",
        "        return value\n",
        "    if from_unit == \"Celsius\" and to_unit == \"Fahrenheit\":\n",
        "        return value * 9/5 + 32\n",
        "    if from_unit == \"Fahrenheit\" and to_unit == \"Celsius\":\n",
        "        return (value - 32) * 5/9\n",
        "\n",
        "def weight_convertor(from_unit, to_unit, value):\n",
        "    factor = {\n",
        "        \"Kilograms\": 1,\n",
        "        \"Grams\": 0.001,\n",
        "        \"Pounds\": 0.453592,\n",
        "        \"Ounces\": 0.0283495\n",
        "    }\n",
        "    return value * factor[from_unit] / factor[to_unit]\n",
        "\n",
        "def pressure_convertor(from_unit, to_unit, value):\n",
        "    factor = {\n",
        "        \"Pascals\": 1,\n",
        "        \"Hectopascals\": 100,\n",
        "        \"Kilopascals\": 1000,\n",
        "        \"Bar\": 100000\n",
        "    }\n",
        "    return value * factor[from_unit] / factor[to_unit]\n",
        "\n",
        "# --- Streamlit UI ---\n",
        "st.title(\"Unit Converter\")\n",
        "category = st.selectbox(\"Select Category\", [\"Distance\", \"Temperature\", \"Weight\", \"Pressure\"])\n",
        "\n",
        "if category == \"Distance\":\n",
        "    from_unit = st.selectbox(\"From\", [\"Meters\", \"Kilometers\", \"Feet\", \"Miles\"])\n",
        "    to_unit = st.selectbox(\"To\", [\"Meters\", \"Kilometers\", \"Feet\", \"Miles\"])\n",
        "    value = st.number_input(\"Enter Value\")\n",
        "    if st.button(\"Convert\"):\n",
        "        result = distance_convertor(from_unit, to_unit, value)\n",
        "        st.success(f\"{value} {from_unit} = {result:.2f} {to_unit}\")\n",
        "\n",
        "elif category == \"Temperature\":\n",
        "    from_unit = st.selectbox(\"From\", [\"Celsius\", \"Fahrenheit\"])\n",
        "    to_unit = st.selectbox(\"To\", [\"Celsius\", \"Fahrenheit\"])\n",
        "    value = st.number_input(\"Enter Value\")\n",
        "    if st.button(\"Convert\"):\n",
        "        result = temperature_convertor(from_unit, to_unit, value)\n",
        "        st.success(f\"{value} {from_unit} = {result:.2f} {to_unit}\")\n",
        "\n",
        "elif category == \"Weight\":\n",
        "    from_unit = st.selectbox(\"From\", [\"Kilograms\", \"Grams\", \"Pounds\", \"Ounces\"])\n",
        "    to_unit = st.selectbox(\"To\", [\"Kilograms\", \"Grams\", \"Pounds\", \"Ounces\"])\n",
        "    value = st.number_input(\"Enter Value\")\n",
        "    if st.button(\"Convert\"):\n",
        "        result = weight_convertor(from_unit, to_unit, value)\n",
        "        st.success(f\"{value} {from_unit} = {result:.2f} {to_unit}\")\n",
        "\n",
        "elif category == \"Pressure\":\n",
        "    from_unit = st.selectbox(\"From\", [\"Pascals\", \"Hectopascals\", \"Kilopascals\", \"Bar\"])\n",
        "    to_unit = st.selectbox(\"To\", [\"Pascals\", \"Hectopascals\", \"Kilopascals\", \"Bar\"])\n",
        "    value = st.number_input(\"Enter Value\")\n",
        "    if st.button(\"Convert\"):\n",
        "        result = pressure_convertor(from_unit, to_unit, value)\n",
        "        st.success(f\"{value} {from_unit} = {result:.2f} {to_unit}\")\n"
      ],
      "metadata": {
        "colab": {
          "base_uri": "https://localhost:8080/"
        },
        "id": "SErUZKob8HQe",
        "outputId": "5006faa7-f791-4022-a0ec-89a0b6815bd9"
      },
      "execution_count": 3,
      "outputs": [
        {
          "output_type": "stream",
          "name": "stdout",
          "text": [
            "Writing app.py\n"
          ]
        }
      ]
    },
    {
      "cell_type": "code",
      "source": [
        "!pip install pyngrok\n"
      ],
      "metadata": {
        "colab": {
          "base_uri": "https://localhost:8080/"
        },
        "id": "oZKKY47e_e-A",
        "outputId": "6dd291d6-156b-41ea-ad88-79a1e1d2a029"
      },
      "execution_count": 2,
      "outputs": [
        {
          "output_type": "stream",
          "name": "stdout",
          "text": [
            "Collecting pyngrok\n",
            "  Downloading pyngrok-7.2.8-py3-none-any.whl.metadata (10 kB)\n",
            "Requirement already satisfied: PyYAML>=5.1 in /usr/local/lib/python3.11/dist-packages (from pyngrok) (6.0.2)\n",
            "Downloading pyngrok-7.2.8-py3-none-any.whl (25 kB)\n",
            "Installing collected packages: pyngrok\n",
            "Successfully installed pyngrok-7.2.8\n"
          ]
        }
      ]
    },
    {
      "cell_type": "code",
      "source": [
        "!pip install pyngrok streamlit -q\n",
        "\n",
        "from pyngrok import ngrok\n",
        "\n",
        "# Set your ngrok auth token\n",
        "ngrok.set_auth_token(\"2x99bDwa6zLniHd1oFHQL6SFJau_4i6FDyimQdXWywKidBpwg\")\n",
        "\n",
        "# Kill any old tunnels\n",
        "ngrok.kill()\n",
        "\n",
        "# Start streamlit app\n",
        "get_ipython().system_raw('streamlit run app.py &')\n",
        "\n",
        "# Open ngrok tunnel\n",
        "public_url = ngrok.connect(8501)\n",
        "print(f\"Open this URL to access your app: {public_url}\")\n",
        "\n"
      ],
      "metadata": {
        "colab": {
          "base_uri": "https://localhost:8080/"
        },
        "id": "SMgulhaQkN1_",
        "outputId": "a924afc9-d653-4639-d224-c7c4ab1b941f"
      },
      "execution_count": 29,
      "outputs": [
        {
          "output_type": "stream",
          "name": "stdout",
          "text": [
            "Open this URL to access your app: NgrokTunnel: \"https://63f1-35-227-98-0.ngrok-free.app\" -> \"http://localhost:8501\"\n"
          ]
        }
      ]
    }
  ]
}